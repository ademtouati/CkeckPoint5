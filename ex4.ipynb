{
 "cells": [
  {
   "cell_type": "code",
   "execution_count": null,
   "id": "ac9421c9",
   "metadata": {},
   "outputs": [],
   "source": [
    "class Bank :\n",
    "    def __init__ ( self ) :\n",
    "        self.bal = 0\n",
    "        print ( \" The Bank Account Deposit / withdraw \" )\n",
    "    def deposit ( self ) :\n",
    "        amw = float ( input ( \" Enter amount to be deposited : \" ) )\n",
    "        self.bal = self.bal + amw\n",
    "        print ( \" Your New Account Balance is  \" % self.bal )\n",
    "    def withdraw ( self ) :\n",
    "        amw = float ( input ( \" Enter Amount to withdraw : \" ) )\n",
    "        if ( self.bal > = amw ) :\n",
    "            self.bal = self.bal - amw\n",
    "            print ( \" Your New Account Balance is  \" % self.bal )\n",
    "            print ( ' Insuficient bal ' )\n",
    "        else :\n",
    "    def resbalance ( self ) :\n",
    "        print ( \" Your Account Balance is  \" % self.bal )\n",
    "account = Bank ( )\n",
    "account.deposit ( )\n",
    "account.withdraw ( )\n",
    "account.resbalance ( )"
   ]
  },
  {
   "cell_type": "code",
   "execution_count": null,
   "id": "08877f16",
   "metadata": {},
   "outputs": [],
   "source": []
  }
 ],
 "metadata": {
  "kernelspec": {
   "display_name": "Python 3 (ipykernel)",
   "language": "python",
   "name": "python3"
  },
  "language_info": {
   "codemirror_mode": {
    "name": "ipython",
    "version": 3
   },
   "file_extension": ".py",
   "mimetype": "text/x-python",
   "name": "python",
   "nbconvert_exporter": "python",
   "pygments_lexer": "ipython3",
   "version": "3.9.12"
  }
 },
 "nbformat": 4,
 "nbformat_minor": 5
}
